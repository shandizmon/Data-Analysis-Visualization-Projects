{
 "cells": [
  {
   "cell_type": "code",
   "execution_count": 5,
   "metadata": {},
   "outputs": [],
   "source": [
    "# Dependencies\n",
    "import requests\n",
    "import pandas as pd\n",
    "import json\n",
    "from pprint import pprint\n",
    "from citipy import citipy\n",
    "from random import uniform\n",
    "import matplotlib.pyplot as plt\n",
    "\n",
    "# Google developer API key\n",
    "from apikeys import api_key as gkey"
   ]
  },
  {
   "cell_type": "code",
   "execution_count": 6,
   "metadata": {},
   "outputs": [
    {
     "data": {
      "text/plain": [
       "[(-67.77320138694857, 98.16903879224196),\n",
       " (16.336959848093628, -75.78869888540336),\n",
       " (88.42197319932157, -131.228085525389),\n",
       " (-11.887385573968487, -51.888774722211906),\n",
       " (-4.662482972331958, -110.14463093185424),\n",
       " (-28.078625971384078, -32.96971576496537),\n",
       " (14.652639751449158, -49.51963961822548),\n",
       " (34.057755208413354, 81.20632772495941),\n",
       " (61.20891642512322, -152.99215418964368),\n",
       " (0.34829133265532164, 50.78698634026145)]"
      ]
     },
     "execution_count": 6,
     "metadata": {},
     "output_type": "execute_result"
    }
   ],
   "source": [
    "# geocoordinates\n",
    "\n",
    "def newpoint():\n",
    "    return uniform(-90.0,90.0), uniform(-180.0,180.0)\n",
    "\n",
    "coordinates = []\n",
    "points = (newpoint() for x in range(10))\n",
    "for point in points:\n",
    "    coordinates.append(point)\n",
    "    \n",
    "coordinates"
   ]
  },
  {
   "cell_type": "code",
   "execution_count": 7,
   "metadata": {},
   "outputs": [
    {
     "data": {
      "text/plain": [
       "['busselton',\n",
       " 'morant bay',\n",
       " 'tuktoyaktuk',\n",
       " 'sao miguel do araguaia',\n",
       " 'puerto ayora',\n",
       " 'sao joao da barra',\n",
       " 'sinnamary',\n",
       " 'leh',\n",
       " 'kenai',\n",
       " 'hobyo']"
      ]
     },
     "execution_count": 7,
     "metadata": {},
     "output_type": "execute_result"
    }
   ],
   "source": [
    "cities = []\n",
    "for coordinate_pair in coordinates:\n",
    "    lat, lon = coordinate_pair\n",
    "    cities.append((citipy.nearest_city(lat, lon).city_name))\n",
    "    \n",
    "cities"
   ]
  },
  {
   "cell_type": "code",
   "execution_count": 8,
   "metadata": {},
   "outputs": [
    {
     "data": {
      "text/html": [
       "<div>\n",
       "<style scoped>\n",
       "    .dataframe tbody tr th:only-of-type {\n",
       "        vertical-align: middle;\n",
       "    }\n",
       "\n",
       "    .dataframe tbody tr th {\n",
       "        vertical-align: top;\n",
       "    }\n",
       "\n",
       "    .dataframe thead th {\n",
       "        text-align: right;\n",
       "    }\n",
       "</style>\n",
       "<table border=\"1\" class=\"dataframe\">\n",
       "  <thead>\n",
       "    <tr style=\"text-align: right;\">\n",
       "      <th></th>\n",
       "      <th>City</th>\n",
       "      <th>Cloudiness (%)</th>\n",
       "      <th>Humidity (%)</th>\n",
       "      <th>Latitude</th>\n",
       "      <th>Temperature (F)</th>\n",
       "      <th>Wind Speed (mph)</th>\n",
       "    </tr>\n",
       "  </thead>\n",
       "  <tbody>\n",
       "    <tr>\n",
       "      <th>0</th>\n",
       "      <td>busselton</td>\n",
       "      <td>76</td>\n",
       "      <td>100</td>\n",
       "      <td>-33.64</td>\n",
       "      <td>59.85</td>\n",
       "      <td>15.68</td>\n",
       "    </tr>\n",
       "    <tr>\n",
       "      <th>1</th>\n",
       "      <td>morant bay</td>\n",
       "      <td>20</td>\n",
       "      <td>70</td>\n",
       "      <td>17.88</td>\n",
       "      <td>87.80</td>\n",
       "      <td>21.92</td>\n",
       "    </tr>\n",
       "    <tr>\n",
       "      <th>2</th>\n",
       "      <td>tuktoyaktuk</td>\n",
       "      <td>40</td>\n",
       "      <td>66</td>\n",
       "      <td>69.44</td>\n",
       "      <td>55.40</td>\n",
       "      <td>11.41</td>\n",
       "    </tr>\n",
       "    <tr>\n",
       "      <th>3</th>\n",
       "      <td>sao miguel do araguaia</td>\n",
       "      <td>0</td>\n",
       "      <td>75</td>\n",
       "      <td>-13.28</td>\n",
       "      <td>82.26</td>\n",
       "      <td>8.08</td>\n",
       "    </tr>\n",
       "    <tr>\n",
       "      <th>4</th>\n",
       "      <td>puerto ayora</td>\n",
       "      <td>20</td>\n",
       "      <td>65</td>\n",
       "      <td>-0.74</td>\n",
       "      <td>80.60</td>\n",
       "      <td>12.75</td>\n",
       "    </tr>\n",
       "  </tbody>\n",
       "</table>\n",
       "</div>"
      ],
      "text/plain": [
       "                     City  Cloudiness (%)  Humidity (%)  Latitude  \\\n",
       "0               busselton              76           100    -33.64   \n",
       "1              morant bay              20            70     17.88   \n",
       "2             tuktoyaktuk              40            66     69.44   \n",
       "3  sao miguel do araguaia               0            75    -13.28   \n",
       "4            puerto ayora              20            65     -0.74   \n",
       "\n",
       "   Temperature (F)  Wind Speed (mph)  \n",
       "0            59.85             15.68  \n",
       "1            87.80             21.92  \n",
       "2            55.40             11.41  \n",
       "3            82.26              8.08  \n",
       "4            80.60             12.75  "
      ]
     },
     "execution_count": 8,
     "metadata": {},
     "output_type": "execute_result"
    }
   ],
   "source": [
    "# list for response results\n",
    "lat = []\n",
    "temp = []\n",
    "humidity = []\n",
    "clouds = []\n",
    "wind = []\n",
    "\n",
    "api_params = {\n",
    "    'appid': gkey,\n",
    "    'units': 'imperial',\n",
    "}\n",
    "\n",
    "# Build URL\n",
    "base_url = \"http://api.openweathermap.org/data/2.5/weather\"\n",
    "\n",
    "# Get weather information in JSON format\n",
    "for city in cities:\n",
    "#    print(city)\n",
    "    api_params['q']=city\n",
    "    weather_response = requests.get(base_url, params=api_params).json()\n",
    "    \n",
    "    lat.append(weather_response['coord']['lat'])\n",
    "    temp.append(weather_response['main']['temp'])\n",
    "    humidity.append(weather_response['main']['humidity'])\n",
    "    clouds.append(weather_response['clouds']['all'])\n",
    "    wind.append(weather_response['wind']['speed'])\n",
    "\n",
    "\n",
    "# build a dataframe from the cities, lat, Temperature, Humidity (%), Cloudiness (%),Wind Speed (mph) lists\n",
    "weather_data = {\"City\": cities, \"Latitude\": lat, \"Temperature (F)\": temp, \"Humidity (%)\": humidity, \"Cloudiness (%)\": clouds, \"Wind Speed (mph)\": wind}\n",
    "df_weather_data = pd.DataFrame(weather_data)\n",
    "df_weather_data.head()"
   ]
  },
  {
   "cell_type": "code",
   "execution_count": 11,
   "metadata": {},
   "outputs": [
    {
     "data": {
      "image/png": "[encoded data removed]",
      "text/plain": [
       "<matplotlib.figure.Figure at 0x211473d5b38>"
      ]
     },
     "metadata": {},
     "output_type": "display_data"
    }
   ],
   "source": [
    "# Build a scatter plot for each data type\n",
    "plt.scatter(df_weather_data[\"Latitude\"], df_weather_data[\"Temperature (F)\"], marker=\"o\")\n",
    "\n",
    "# Incorporate the other graph properties\n",
    "plt.title(\"Temperature vs. Latitude in World Cities\")\n",
    "plt.ylabel(\"Temperature (Fahrenheit)\")\n",
    "plt.xlabel(\"Latitude\")\n",
    "plt.grid(True)\n",
    "\n",
    "# Save the figure\n",
    "plt.savefig(\"TemperatureInWorldCities.png\")\n",
    "\n",
    "# Show plot\n",
    "plt.show()"
   ]
  },
  {
   "cell_type": "code",
   "execution_count": null,
   "metadata": {},
   "outputs": [],
   "source": []
  }
 ],
 "metadata": {
  "kernelspec": {
   "display_name": "Python 3",
   "language": "python",
   "name": "python3"
  },
  "language_info": {
   "codemirror_mode": {
    "name": "ipython",
    "version": 3
   },
   "file_extension": ".py",
   "mimetype": "text/x-python",
   "name": "python",
   "nbconvert_exporter": "python",
   "pygments_lexer": "ipython3",
   "version": "3.6.4"
  }
 },
 "nbformat": 4,
 "nbformat_minor": 2
}
